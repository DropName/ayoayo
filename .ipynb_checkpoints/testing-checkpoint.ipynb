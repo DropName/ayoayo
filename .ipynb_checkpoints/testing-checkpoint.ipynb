{
 "cells": [
  {
   "cell_type": "code",
   "execution_count": 73,
   "id": "7959edd8",
   "metadata": {},
   "outputs": [],
   "source": [
    "import numpy as np"
   ]
  },
  {
   "cell_type": "code",
   "execution_count": 69,
   "id": "0ab4b6b2",
   "metadata": {},
   "outputs": [],
   "source": [
    "x = [4,4,4,4,4,4,\n",
    "     4,4,4,4,4,4]"
   ]
  },
  {
   "cell_type": "code",
   "execution_count": 103,
   "id": "97f72004",
   "metadata": {},
   "outputs": [],
   "source": [
    "def move(player, hole):\n",
    "    # number of hole starting with 1 to 6\n",
    "    # number of player from 1 to 2\n",
    "    stones = x[hole-1 + 6*(player - 1)]\n",
    "    x[hole-1] = 0\n",
    "    shift = 0\n",
    "    \n",
    "    for i in range(stones):\n",
    "        if (hole + shift + i) % 12 == (hole-1) % 12:\n",
    "            shift += 1\n",
    "        \n",
    "        x[(hole + i + shift) % 12] += 1\n",
    "            \n",
    "    return x"
   ]
  },
  {
   "cell_type": "code",
   "execution_count": 106,
   "id": "d7aff9ad",
   "metadata": {},
   "outputs": [],
   "source": [
    "a = [0,0,0,0,0,0,\n",
    "     0,0,0,36,0,0]"
   ]
  },
  {
   "cell_type": "code",
   "execution_count": 107,
   "id": "84c4d296",
   "metadata": {
    "scrolled": true
   },
   "outputs": [
    {
     "data": {
      "text/plain": [
       "[4, 3, 3, 3, 3, 3, 3, 3, 3, 0, 4, 4]"
      ]
     },
     "execution_count": 107,
     "metadata": {},
     "output_type": "execute_result"
    }
   ],
   "source": [
    "move(10, a)"
   ]
  },
  {
   "cell_type": "code",
   "execution_count": 80,
   "id": "69f24408",
   "metadata": {},
   "outputs": [
    {
     "data": {
      "text/plain": [
       "[0, 0, 0, 0, 0, 0, 0, 0, 0, 0, 0, 0]"
      ]
     },
     "execution_count": 80,
     "metadata": {},
     "output_type": "execute_result"
    }
   ],
   "source": [
    "a"
   ]
  },
  {
   "cell_type": "code",
   "execution_count": 61,
   "id": "a67a9413",
   "metadata": {},
   "outputs": [
    {
     "ename": "SyntaxError",
     "evalue": "invalid syntax (3515164179.py, line 1)",
     "output_type": "error",
     "traceback": [
      "\u001b[0;36m  Cell \u001b[0;32mIn[61], line 1\u001b[0;36m\u001b[0m\n\u001b[0;31m    n.&\u001b[0m\n\u001b[0m      ^\u001b[0m\n\u001b[0;31mSyntaxError\u001b[0m\u001b[0;31m:\u001b[0m invalid syntax\n"
     ]
    }
   ],
   "source": []
  },
  {
   "cell_type": "code",
   "execution_count": null,
   "id": "9d56d0fd",
   "metadata": {},
   "outputs": [],
   "source": []
  }
 ],
 "metadata": {
  "kernelspec": {
   "display_name": "Python 3 (ipykernel)",
   "language": "python",
   "name": "python3"
  },
  "language_info": {
   "codemirror_mode": {
    "name": "ipython",
    "version": 3
   },
   "file_extension": ".py",
   "mimetype": "text/x-python",
   "name": "python",
   "nbconvert_exporter": "python",
   "pygments_lexer": "ipython3",
   "version": "3.11.3"
  }
 },
 "nbformat": 4,
 "nbformat_minor": 5
}
