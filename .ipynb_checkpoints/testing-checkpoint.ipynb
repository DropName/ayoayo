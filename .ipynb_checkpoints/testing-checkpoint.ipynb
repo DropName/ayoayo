{
 "cells": [
  {
   "cell_type": "code",
   "execution_count": 73,
   "id": "7959edd8",
   "metadata": {},
   "outputs": [],
   "source": [
    "import numpy as np"
   ]
  },
  {
   "cell_type": "code",
   "execution_count": 12,
   "id": "0ab4b6b2",
   "metadata": {},
   "outputs": [],
   "source": [
    "x = [4]*12"
   ]
  },
  {
   "cell_type": "code",
   "execution_count": 20,
   "id": "97f72004",
   "metadata": {},
   "outputs": [],
   "source": [
    "def move(player, hole, x):\n",
    "    # number of hole starting with 1 to 6\n",
    "    # number of player from 1 to 2\n",
    "    \n",
    "    hole = hole + 6*(player - 1)\n",
    "    \n",
    "    if x[hole-1] == 0 or hole > 12 or hole < 1 or player < 1 or player > 2:\n",
    "        return False\n",
    "    \n",
    "    stones = x[hole-1]\n",
    "    x[hole-1] = 0\n",
    "    shift = 0\n",
    "    \n",
    "    for i in range(stones):\n",
    "        if (hole + shift + i) % 12 == (hole-1) % 12:\n",
    "            shift += 1\n",
    "        \n",
    "        x[(hole + i + shift) % 12] += 1\n",
    "            \n",
    "    return x"
   ]
  },
  {
   "cell_type": "code",
   "execution_count": 21,
   "id": "d7aff9ad",
   "metadata": {},
   "outputs": [],
   "source": [
    "a = [0,0,0,0,0,0,\n",
    "     0,0,0,12,0,0]"
   ]
  },
  {
   "cell_type": "code",
   "execution_count": 23,
   "id": "84c4d296",
   "metadata": {
    "scrolled": true
   },
   "outputs": [
    {
     "data": {
      "text/plain": [
       "False"
      ]
     },
     "execution_count": 23,
     "metadata": {},
     "output_type": "execute_result"
    }
   ],
   "source": [
    "move(2, 4, a)"
   ]
  },
  {
   "cell_type": "code",
   "execution_count": 80,
   "id": "69f24408",
   "metadata": {},
   "outputs": [
    {
     "data": {
      "text/plain": [
       "[0, 0, 0, 0, 0, 0, 0, 0, 0, 0, 0, 0]"
      ]
     },
     "execution_count": 80,
     "metadata": {},
     "output_type": "execute_result"
    }
   ],
   "source": [
    "a[]"
   ]
  },
  {
   "cell_type": "code",
   "execution_count": 13,
   "id": "a67a9413",
   "metadata": {},
   "outputs": [
    {
     "data": {
      "text/plain": [
       "[4, 4, 4, 4, 4, 4, 4, 4, 4, 4, 4, 4]"
      ]
     },
     "execution_count": 13,
     "metadata": {},
     "output_type": "execute_result"
    }
   ],
   "source": [
    "x"
   ]
  },
  {
   "cell_type": "markdown",
   "id": "882555fd",
   "metadata": {},
   "source": [
    "## Класс\n"
   ]
  },
  {
   "cell_type": "code",
   "execution_count": 1,
   "id": "e034f974",
   "metadata": {},
   "outputs": [],
   "source": [
    "from ayoclass import*"
   ]
  },
  {
   "cell_type": "code",
   "execution_count": 8,
   "id": "935d3c1f",
   "metadata": {},
   "outputs": [],
   "source": [
    "x = Ayogame()"
   ]
  },
  {
   "cell_type": "code",
   "execution_count": 9,
   "id": "760d48c1",
   "metadata": {},
   "outputs": [
    {
     "data": {
      "text/plain": [
       "[4, 4, 4, 4, 4, 4, 4, 4, 4, 4, 4, 4]"
      ]
     },
     "execution_count": 9,
     "metadata": {},
     "output_type": "execute_result"
    }
   ],
   "source": [
    "x.state"
   ]
  },
  {
   "cell_type": "code",
   "execution_count": 26,
   "id": "54faabd4",
   "metadata": {},
   "outputs": [
    {
     "name": "stdout",
     "output_type": "stream",
     "text": [
      "[4, 4, 4, 4, 4, 4]\n",
      "[4, 4, 4, 4, 4, 4]\n",
      "\n",
      "[4, 4, 4, 4, 4, 4]\n",
      "[0, 5, 5, 5, 5, 4]\n",
      "\n",
      "[4, 4, 5, 5, 5, 5]\n",
      "[0, 5, 5, 5, 0, 5]\n",
      "\n",
      "[5, 5, 0, 5, 5, 5]\n",
      "[1, 6, 6, 5, 0, 5]\n",
      "\n"
     ]
    }
   ],
   "source": [
    "x = Ayogame()\n",
    "print(x.state[:6])\n",
    "print(x.state[6:])\n",
    "print()\n",
    "\n",
    "n = 1\n",
    "for i in range(3):\n",
    "    n = x.move(1,n) + 1\n",
    "    print(x.state[6:][::-1])\n",
    "    print(x.state[:6])\n",
    "    print()"
   ]
  },
  {
   "cell_type": "code",
   "execution_count": 8,
   "id": "20b27daf",
   "metadata": {},
   "outputs": [
    {
     "data": {
      "text/plain": [
       "[1, 5, 5, 0, 6, 5, 5, 0, 6, 5, 5, 5]"
      ]
     },
     "execution_count": 8,
     "metadata": {},
     "output_type": "execute_result"
    }
   ],
   "source": [
    "x.state"
   ]
  },
  {
   "cell_type": "code",
   "execution_count": 2,
   "id": "38da89cb",
   "metadata": {},
   "outputs": [],
   "source": [
    "a = Ayogame()"
   ]
  },
  {
   "cell_type": "code",
   "execution_count": 24,
   "id": "eb872545",
   "metadata": {},
   "outputs": [
    {
     "data": {
      "text/plain": [
       "4"
      ]
     },
     "execution_count": 24,
     "metadata": {},
     "output_type": "execute_result"
    }
   ],
   "source": [
    "a.move(1,1)"
   ]
  },
  {
   "cell_type": "code",
   "execution_count": 24,
   "id": "5b6b9b46",
   "metadata": {},
   "outputs": [
    {
     "data": {
      "text/plain": [
       "[4, 4, 4, 4, 4, 4, 4, 4, 4, 4, 4, 4]"
      ]
     },
     "execution_count": 24,
     "metadata": {},
     "output_type": "execute_result"
    }
   ],
   "source": [
    "a.state"
   ]
  },
  {
   "cell_type": "code",
   "execution_count": 25,
   "id": "56ab9e39",
   "metadata": {},
   "outputs": [],
   "source": [
    "n = 1"
   ]
  },
  {
   "cell_type": "code",
   "execution_count": 26,
   "id": "46fa63f7",
   "metadata": {},
   "outputs": [
    {
     "name": "stdout",
     "output_type": "stream",
     "text": [
      "[4, 4, 4, 4, 4, 4]\n",
      "[0, 5, 5, 5, 5, 4]\n",
      "\n",
      "[4, 4, 5, 5, 5, 5]\n",
      "[0, 5, 5, 5, 0, 5]\n",
      "\n",
      "[5, 5, 0, 5, 5, 5]\n",
      "[1, 6, 6, 5, 0, 5]\n",
      "\n",
      "[5, 5, 0, 6, 6, 6]\n",
      "[1, 6, 0, 6, 1, 6]\n",
      "\n",
      "[6, 6, 1, 0, 6, 6]\n",
      "[2, 7, 1, 6, 1, 6]\n",
      "\n"
     ]
    }
   ],
   "source": [
    "while a.state[n-1] > 1:\n",
    "    n = a.move(1,n) + 1\n",
    "    print(a.state[6:][::-1])\n",
    "    print(a.state[:6])\n",
    "    print()"
   ]
  },
  {
   "cell_type": "code",
   "execution_count": null,
   "id": "9cc5b935",
   "metadata": {},
   "outputs": [],
   "source": [
    "a.state"
   ]
  },
  {
   "cell_type": "code",
   "execution_count": 22,
   "id": "1eca457c",
   "metadata": {},
   "outputs": [
    {
     "name": "stdout",
     "output_type": "stream",
     "text": [
      "[5, 5, 0, 6, 6, 6]\n",
      "[1, 6, 0, 6, 1, 6]\n",
      "\n"
     ]
    }
   ],
   "source": [
    "print(a.state[6:][::-1])\n",
    "print(a.state[:6])\n",
    "print()"
   ]
  },
  {
   "cell_type": "code",
   "execution_count": 16,
   "id": "87baadda",
   "metadata": {},
   "outputs": [],
   "source": [
    "a = [1,2,3,4]"
   ]
  },
  {
   "cell_type": "code",
   "execution_count": 23,
   "id": "8757bfc1",
   "metadata": {},
   "outputs": [
    {
     "data": {
      "text/plain": [
       "[2, 1]"
      ]
     },
     "execution_count": 23,
     "metadata": {},
     "output_type": "execute_result"
    }
   ],
   "source": [
    "a[:2][::-1]"
   ]
  },
  {
   "cell_type": "code",
   "execution_count": 2,
   "id": "5453f14e",
   "metadata": {},
   "outputs": [
    {
     "data": {
      "text/plain": [
       "2"
      ]
     },
     "execution_count": 2,
     "metadata": {},
     "output_type": "execute_result"
    }
   ],
   "source": [
    "a = Ayogame()\n",
    "a.round(1,1)"
   ]
  },
  {
   "cell_type": "code",
   "execution_count": 3,
   "id": "01170cc2",
   "metadata": {},
   "outputs": [
    {
     "data": {
      "text/plain": [
       "[2, 1, 6, 1, 7, 6, 6, 0, 1, 6, 6, 6]"
      ]
     },
     "execution_count": 3,
     "metadata": {},
     "output_type": "execute_result"
    }
   ],
   "source": [
    "a.state"
   ]
  },
  {
   "cell_type": "code",
   "execution_count": 6,
   "id": "1547d2ab",
   "metadata": {},
   "outputs": [
    {
     "name": "stdout",
     "output_type": "stream",
     "text": [
      "[6, 1, 0, 6, 6, 6]\n",
      "[6, 2, 7, 1, 6, 1]\n",
      "\n"
     ]
    }
   ],
   "source": [
    "print(a.state[6:][::-1])\n",
    "print(a.state[:6])\n",
    "print()"
   ]
  },
  {
   "cell_type": "code",
   "execution_count": 4,
   "id": "790c1b14",
   "metadata": {},
   "outputs": [
    {
     "data": {
      "text/plain": [
       "3"
      ]
     },
     "execution_count": 4,
     "metadata": {},
     "output_type": "execute_result"
    }
   ],
   "source": [
    "a = Ayogame()\n",
    "a.round(1,2)"
   ]
  },
  {
   "cell_type": "code",
   "execution_count": 5,
   "id": "4eb1d210",
   "metadata": {},
   "outputs": [
    {
     "data": {
      "text/plain": [
       "[6, 2, 7, 1, 6, 1, 6, 6, 6, 0, 1, 6]"
      ]
     },
     "execution_count": 5,
     "metadata": {},
     "output_type": "execute_result"
    }
   ],
   "source": [
    "a.state"
   ]
  },
  {
   "cell_type": "code",
   "execution_count": null,
   "id": "22489711",
   "metadata": {},
   "outputs": [],
   "source": []
  }
 ],
 "metadata": {
  "kernelspec": {
   "display_name": "Python 3 (ipykernel)",
   "language": "python",
   "name": "python3"
  },
  "language_info": {
   "codemirror_mode": {
    "name": "ipython",
    "version": 3
   },
   "file_extension": ".py",
   "mimetype": "text/x-python",
   "name": "python",
   "nbconvert_exporter": "python",
   "pygments_lexer": "ipython3",
   "version": "3.11.3"
  }
 },
 "nbformat": 4,
 "nbformat_minor": 5
}
