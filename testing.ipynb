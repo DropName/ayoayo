{
 "cells": [
  {
   "cell_type": "code",
   "execution_count": 73,
   "id": "7959edd8",
   "metadata": {},
   "outputs": [],
   "source": [
    "import numpy as np"
   ]
  },
  {
   "cell_type": "code",
   "execution_count": 12,
   "id": "0ab4b6b2",
   "metadata": {},
   "outputs": [],
   "source": [
    "x = [4]*12"
   ]
  },
  {
   "cell_type": "code",
   "execution_count": 20,
   "id": "97f72004",
   "metadata": {},
   "outputs": [],
   "source": [
    "def move(player, hole, x):\n",
    "    # number of hole starting with 1 to 6\n",
    "    # number of player from 1 to 2\n",
    "    \n",
    "    hole = hole + 6*(player - 1)\n",
    "    \n",
    "    if x[hole-1] == 0 or hole > 12 or hole < 1 or player < 1 or player > 2:\n",
    "        return False\n",
    "    \n",
    "    stones = x[hole-1]\n",
    "    x[hole-1] = 0\n",
    "    shift = 0\n",
    "    \n",
    "    for i in range(stones):\n",
    "        if (hole + shift + i) % 12 == (hole-1) % 12:\n",
    "            shift += 1\n",
    "        \n",
    "        x[(hole + i + shift) % 12] += 1\n",
    "            \n",
    "    return x"
   ]
  },
  {
   "cell_type": "code",
   "execution_count": 21,
   "id": "d7aff9ad",
   "metadata": {},
   "outputs": [],
   "source": [
    "a = [0,0,0,0,0,0,\n",
    "     0,0,0,12,0,0]"
   ]
  },
  {
   "cell_type": "code",
   "execution_count": 23,
   "id": "84c4d296",
   "metadata": {
    "scrolled": true
   },
   "outputs": [
    {
     "data": {
      "text/plain": [
       "False"
      ]
     },
     "execution_count": 23,
     "metadata": {},
     "output_type": "execute_result"
    }
   ],
   "source": [
    "move(2, 4, a)"
   ]
  },
  {
   "cell_type": "code",
   "execution_count": 80,
   "id": "69f24408",
   "metadata": {},
   "outputs": [
    {
     "data": {
      "text/plain": [
       "[0, 0, 0, 0, 0, 0, 0, 0, 0, 0, 0, 0]"
      ]
     },
     "execution_count": 80,
     "metadata": {},
     "output_type": "execute_result"
    }
   ],
   "source": [
    "a[]"
   ]
  },
  {
   "cell_type": "code",
   "execution_count": 13,
   "id": "a67a9413",
   "metadata": {},
   "outputs": [
    {
     "data": {
      "text/plain": [
       "[4, 4, 4, 4, 4, 4, 4, 4, 4, 4, 4, 4]"
      ]
     },
     "execution_count": 13,
     "metadata": {},
     "output_type": "execute_result"
    }
   ],
   "source": [
    "x"
   ]
  },
  {
   "cell_type": "markdown",
   "id": "882555fd",
   "metadata": {},
   "source": [
    "## Класс\n"
   ]
  },
  {
   "cell_type": "markdown",
   "id": "27bc918f",
   "metadata": {},
   "source": [
    "[6, 1, 0, 6, 6, 6]\n",
    "\n",
    "[6, 2, 7, 1, 6, 1]\n",
    "\n",
    "#правильный ответ при перекладывании n2"
   ]
  },
  {
   "cell_type": "code",
   "execution_count": 1,
   "id": "e034f974",
   "metadata": {},
   "outputs": [],
   "source": [
    "from ayoclass import*"
   ]
  },
  {
   "cell_type": "code",
   "execution_count": 3,
   "id": "6cba2dff",
   "metadata": {},
   "outputs": [
    {
     "name": "stdout",
     "output_type": "stream",
     "text": [
      "5\n",
      "[4, 4, 4, 4, 4, 4]\n",
      "[4, 0, 5, 5, 5, 5]\n",
      "[0, 0]\n"
     ]
    }
   ],
   "source": [
    "a = Ayogame()\n",
    "print(a.move(1))\n",
    "\n",
    "print(a.state[6:][::-1])\n",
    "print(a.state[:6])\n",
    "print(a.score)"
   ]
  },
  {
   "cell_type": "code",
   "execution_count": null,
   "id": "7fcaf77d",
   "metadata": {},
   "outputs": [],
   "source": []
  },
  {
   "cell_type": "code",
   "execution_count": 2,
   "id": "5453f14e",
   "metadata": {},
   "outputs": [
    {
     "name": "stdout",
     "output_type": "stream",
     "text": [
      "3\n",
      "[6, 1, 0, 6, 6, 6]\n",
      "[6, 2, 7, 1, 6, 1]\n",
      "[0, 0]\n"
     ]
    }
   ],
   "source": [
    "a = Ayogame()\n",
    "print(a.round(1,1))\n",
    "\n",
    "print(a.state[6:][::-1])\n",
    "print(a.state[:6])\n",
    "print(a.score)"
   ]
  },
  {
   "cell_type": "code",
   "execution_count": 3,
   "id": "1547d2ab",
   "metadata": {},
   "outputs": [
    {
     "name": "stdout",
     "output_type": "stream",
     "text": [
      "2\n",
      "[6, 6, 0, 0, 6, 6]\n",
      "[2, 7, 1, 6, 1, 6]\n",
      "[1, 0]\n"
     ]
    }
   ],
   "source": [
    "a = Ayogame()\n",
    "print(a.round(1,1))\n",
    "\n",
    "print(a.state[6:][::-1])\n",
    "print(a.state[:6])\n",
    "print(a.score)"
   ]
  },
  {
   "cell_type": "code",
   "execution_count": 4,
   "id": "790c1b14",
   "metadata": {},
   "outputs": [
    {
     "data": {
      "text/plain": [
       "3"
      ]
     },
     "execution_count": 4,
     "metadata": {},
     "output_type": "execute_result"
    }
   ],
   "source": [
    "a = Ayogame()\n",
    "a.round(1,2)"
   ]
  },
  {
   "cell_type": "code",
   "execution_count": 10,
   "id": "4eb1d210",
   "metadata": {},
   "outputs": [],
   "source": [
    "x = a.state"
   ]
  },
  {
   "cell_type": "code",
   "execution_count": 13,
   "id": "22489711",
   "metadata": {},
   "outputs": [
    {
     "data": {
      "text/plain": [
       "6"
      ]
     },
     "execution_count": 13,
     "metadata": {},
     "output_type": "execute_result"
    }
   ],
   "source": [
    "x[12- 3 - 1]"
   ]
  },
  {
   "cell_type": "code",
   "execution_count": 4,
   "id": "14ff1e38",
   "metadata": {},
   "outputs": [
    {
     "data": {
      "text/plain": [
       "[2, 7, 0, 6, 1, 6, 6, 6, 0, 1, 6, 6]"
      ]
     },
     "execution_count": 4,
     "metadata": {},
     "output_type": "execute_result"
    }
   ],
   "source": [
    "x"
   ]
  },
  {
   "cell_type": "code",
   "execution_count": 12,
   "id": "e6aba659",
   "metadata": {},
   "outputs": [
    {
     "data": {
      "text/plain": [
       "0"
      ]
     },
     "execution_count": 12,
     "metadata": {},
     "output_type": "execute_result"
    }
   ],
   "source": [
    "x[3]"
   ]
  },
  {
   "cell_type": "code",
   "execution_count": null,
   "id": "ade6b3e5",
   "metadata": {},
   "outputs": [],
   "source": []
  }
 ],
 "metadata": {
  "kernelspec": {
   "display_name": "Python 3 (ipykernel)",
   "language": "python",
   "name": "python3"
  },
  "language_info": {
   "codemirror_mode": {
    "name": "ipython",
    "version": 3
   },
   "file_extension": ".py",
   "mimetype": "text/x-python",
   "name": "python",
   "nbconvert_exporter": "python",
   "pygments_lexer": "ipython3",
   "version": "3.11.3"
  }
 },
 "nbformat": 4,
 "nbformat_minor": 5
}
