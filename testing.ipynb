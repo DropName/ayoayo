{
 "cells": [
  {
   "cell_type": "code",
   "execution_count": 73,
   "id": "7959edd8",
   "metadata": {},
   "outputs": [],
   "source": [
    "import numpy as np"
   ]
  },
  {
   "cell_type": "code",
   "execution_count": 12,
   "id": "0ab4b6b2",
   "metadata": {},
   "outputs": [],
   "source": [
    "x = [4]*12"
   ]
  },
  {
   "cell_type": "code",
   "execution_count": 20,
   "id": "97f72004",
   "metadata": {},
   "outputs": [],
   "source": [
    "def move(player, hole, x):\n",
    "    # number of hole starting with 1 to 6\n",
    "    # number of player from 1 to 2\n",
    "    \n",
    "    hole = hole + 6*(player - 1)\n",
    "    \n",
    "    if x[hole-1] == 0 or hole > 12 or hole < 1 or player < 1 or player > 2:\n",
    "        return False\n",
    "    \n",
    "    stones = x[hole-1]\n",
    "    x[hole-1] = 0\n",
    "    shift = 0\n",
    "    \n",
    "    for i in range(stones):\n",
    "        if (hole + shift + i) % 12 == (hole-1) % 12:\n",
    "            shift += 1\n",
    "        \n",
    "        x[(hole + i + shift) % 12] += 1\n",
    "            \n",
    "    return x"
   ]
  },
  {
   "cell_type": "code",
   "execution_count": 21,
   "id": "d7aff9ad",
   "metadata": {},
   "outputs": [],
   "source": [
    "a = [0,0,0,0,0,0,\n",
    "     0,0,0,12,0,0]"
   ]
  },
  {
   "cell_type": "code",
   "execution_count": 23,
   "id": "84c4d296",
   "metadata": {
    "scrolled": true
   },
   "outputs": [
    {
     "data": {
      "text/plain": [
       "False"
      ]
     },
     "execution_count": 23,
     "metadata": {},
     "output_type": "execute_result"
    }
   ],
   "source": [
    "move(2, 4, a)"
   ]
  },
  {
   "cell_type": "code",
   "execution_count": 80,
   "id": "69f24408",
   "metadata": {},
   "outputs": [
    {
     "data": {
      "text/plain": [
       "[0, 0, 0, 0, 0, 0, 0, 0, 0, 0, 0, 0]"
      ]
     },
     "execution_count": 80,
     "metadata": {},
     "output_type": "execute_result"
    }
   ],
   "source": [
    "a[]"
   ]
  },
  {
   "cell_type": "code",
   "execution_count": 13,
   "id": "a67a9413",
   "metadata": {},
   "outputs": [
    {
     "data": {
      "text/plain": [
       "[4, 4, 4, 4, 4, 4, 4, 4, 4, 4, 4, 4]"
      ]
     },
     "execution_count": 13,
     "metadata": {},
     "output_type": "execute_result"
    }
   ],
   "source": [
    "x"
   ]
  },
  {
   "cell_type": "markdown",
   "id": "e26f2781",
   "metadata": {},
   "source": [
    "## Класс\n"
   ]
  },
  {
   "cell_type": "code",
   "execution_count": 1,
   "id": "c844280f",
   "metadata": {},
   "outputs": [],
   "source": [
    "from ayoclass import*"
   ]
  },
  {
   "cell_type": "code",
   "execution_count": 14,
   "id": "892e8028",
   "metadata": {},
   "outputs": [],
   "source": [
    "x = Ayogame()"
   ]
  },
  {
   "cell_type": "code",
   "execution_count": 15,
   "id": "e4221749",
   "metadata": {},
   "outputs": [
    {
     "data": {
      "text/plain": [
       "[4, 4, 4, 4, 4, 4, 4, 4, 4, 4, 4, 4]"
      ]
     },
     "execution_count": 15,
     "metadata": {},
     "output_type": "execute_result"
    }
   ],
   "source": [
    "x.state"
   ]
  },
  {
   "cell_type": "code",
   "execution_count": 16,
   "id": "2dfa3df1",
   "metadata": {},
   "outputs": [
    {
     "data": {
      "text/plain": [
       "True"
      ]
     },
     "execution_count": 16,
     "metadata": {},
     "output_type": "execute_result"
    }
   ],
   "source": [
    "x.move(2, 6)"
   ]
  },
  {
   "cell_type": "code",
   "execution_count": 17,
   "id": "d6fb51ab",
   "metadata": {},
   "outputs": [
    {
     "data": {
      "text/plain": [
       "[5, 5, 5, 5, 4, 4, 4, 4, 4, 4, 4, 0]"
      ]
     },
     "execution_count": 17,
     "metadata": {},
     "output_type": "execute_result"
    }
   ],
   "source": [
    "x.state"
   ]
  },
  {
   "cell_type": "code",
   "execution_count": null,
   "id": "60557255",
   "metadata": {},
   "outputs": [],
   "source": []
  }
 ],
 "metadata": {
  "kernelspec": {
   "display_name": "Python 3 (ipykernel)",
   "language": "python",
   "name": "python3"
  },
  "language_info": {
   "codemirror_mode": {
    "name": "ipython",
    "version": 3
   },
   "file_extension": ".py",
   "mimetype": "text/x-python",
   "name": "python",
   "nbconvert_exporter": "python",
   "pygments_lexer": "ipython3",
   "version": "3.11.3"
  }
 },
 "nbformat": 4,
 "nbformat_minor": 5
}
